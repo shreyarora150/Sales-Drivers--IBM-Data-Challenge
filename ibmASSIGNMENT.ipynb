{
 "cells": [
  {
   "cell_type": "code",
   "execution_count": 189,
   "metadata": {},
   "outputs": [
    {
     "name": "stderr",
     "output_type": "stream",
     "text": [
      "/opt/anaconda3/lib/python3.9/site-packages/xgboost/compat.py:36: FutureWarning: pandas.Int64Index is deprecated and will be removed from pandas in a future version. Use pandas.Index with the appropriate dtype instead.\n",
      "  from pandas import MultiIndex, Int64Index\n"
     ]
    }
   ],
   "source": [
    "import pandas as pd\n",
    "import numpy as np\n",
    "import seaborn as sns\n",
    "from scipy.stats import chi2_contingency \n",
    "import scipy.stats as stats \n",
    "from sklearn.linear_model import LogisticRegression\n",
    "from sklearn.feature_selection import f_classif\n",
    "import datetime as dt\n",
    "from sklearn.model_selection import train_test_split\n",
    "from sklearn.metrics import confusion_matrix,accuracy_score\n",
    "from sklearn.ensemble import RandomForestClassifier\n",
    "from sklearn.feature_selection import SelectFromModel\n",
    "import xgboost as xgb\n",
    "from xgboost.sklearn import XGBClassifier"
   ]
  },
  {
   "cell_type": "code",
   "execution_count": 161,
   "metadata": {},
   "outputs": [],
   "source": [
    "actual_data = pd.read_excel(\"/Users/shreyarora/Downloads/IBM_CAO_Data_Science_Challenge_2022-2023.xlsx\",\"Table1-SW Deals\")"
   ]
  },
  {
   "cell_type": "markdown",
   "metadata": {},
   "source": [
    "## Exploratory Data Analysis"
   ]
  },
  {
   "cell_type": "code",
   "execution_count": 162,
   "metadata": {},
   "outputs": [
    {
     "name": "stdout",
     "output_type": "stream",
     "text": [
      "<class 'pandas.core.frame.DataFrame'>\n",
      "RangeIndex: 478608 entries, 0 to 478607\n",
      "Data columns (total 17 columns):\n",
      " #   Column          Non-Null Count   Dtype         \n",
      "---  ------          --------------   -----         \n",
      " 0   PROD_CATEGORY   478608 non-null  object        \n",
      " 1   WEB_QUOTE_NUM   478608 non-null  int64         \n",
      " 2   CUSTOMER_NUM    478608 non-null  object        \n",
      " 3   WON             478608 non-null  int64         \n",
      " 4   CNTRY_CODE      478608 non-null  object        \n",
      " 5   PART_NUM        478608 non-null  object        \n",
      " 6   PART_QTY        478608 non-null  int64         \n",
      " 7   QUOTE_PRICE     478608 non-null  float64       \n",
      " 8   ENTITLED_PRICE  478608 non-null  float64       \n",
      " 9   SUBMIT_DATE     478608 non-null  datetime64[ns]\n",
      " 10  EXCHANGE_RATE   478608 non-null  float64       \n",
      " 11  CURRNCY_CODE    478608 non-null  object        \n",
      " 12  START_DATE      478608 non-null  datetime64[ns]\n",
      " 13  END_DATE        478608 non-null  datetime64[ns]\n",
      " 14  INDUSTRY_CODE   478608 non-null  object        \n",
      " 15  SUBMIT_YR       478608 non-null  int64         \n",
      " 16  INDUSTRY_DESC   478608 non-null  object        \n",
      "dtypes: datetime64[ns](3), float64(3), int64(4), object(7)\n",
      "memory usage: 62.1+ MB\n"
     ]
    }
   ],
   "source": [
    "data = actual_data.copy()\n",
    "data.info()"
   ]
  },
  {
   "cell_type": "code",
   "execution_count": 163,
   "metadata": {},
   "outputs": [
    {
     "data": {
      "text/html": [
       "<div>\n",
       "<style scoped>\n",
       "    .dataframe tbody tr th:only-of-type {\n",
       "        vertical-align: middle;\n",
       "    }\n",
       "\n",
       "    .dataframe tbody tr th {\n",
       "        vertical-align: top;\n",
       "    }\n",
       "\n",
       "    .dataframe thead th {\n",
       "        text-align: right;\n",
       "    }\n",
       "</style>\n",
       "<table border=\"1\" class=\"dataframe\">\n",
       "  <thead>\n",
       "    <tr style=\"text-align: right;\">\n",
       "      <th></th>\n",
       "      <th>WEB_QUOTE_NUM</th>\n",
       "      <th>WON</th>\n",
       "      <th>PART_QTY</th>\n",
       "      <th>QUOTE_PRICE</th>\n",
       "      <th>ENTITLED_PRICE</th>\n",
       "      <th>EXCHANGE_RATE</th>\n",
       "      <th>SUBMIT_YR</th>\n",
       "    </tr>\n",
       "  </thead>\n",
       "  <tbody>\n",
       "    <tr>\n",
       "      <th>count</th>\n",
       "      <td>4.786080e+05</td>\n",
       "      <td>478608.000000</td>\n",
       "      <td>4.786080e+05</td>\n",
       "      <td>4.786080e+05</td>\n",
       "      <td>4.786080e+05</td>\n",
       "      <td>478608.00000</td>\n",
       "      <td>478608.000000</td>\n",
       "    </tr>\n",
       "    <tr>\n",
       "      <th>mean</th>\n",
       "      <td>1.668992e+08</td>\n",
       "      <td>0.519707</td>\n",
       "      <td>4.731914e+04</td>\n",
       "      <td>7.389219e+04</td>\n",
       "      <td>6.931678e+05</td>\n",
       "      <td>0.97557</td>\n",
       "      <td>2020.096398</td>\n",
       "    </tr>\n",
       "    <tr>\n",
       "      <th>std</th>\n",
       "      <td>3.668802e+08</td>\n",
       "      <td>0.499612</td>\n",
       "      <td>6.437065e+06</td>\n",
       "      <td>2.677050e+06</td>\n",
       "      <td>5.050222e+07</td>\n",
       "      <td>0.06883</td>\n",
       "      <td>0.986004</td>\n",
       "    </tr>\n",
       "    <tr>\n",
       "      <th>min</th>\n",
       "      <td>8.009760e+05</td>\n",
       "      <td>0.000000</td>\n",
       "      <td>0.000000e+00</td>\n",
       "      <td>0.000000e+00</td>\n",
       "      <td>0.000000e+00</td>\n",
       "      <td>0.76746</td>\n",
       "      <td>2019.000000</td>\n",
       "    </tr>\n",
       "    <tr>\n",
       "      <th>25%</th>\n",
       "      <td>1.281187e+07</td>\n",
       "      <td>0.000000</td>\n",
       "      <td>1.000000e+00</td>\n",
       "      <td>1.200000e+03</td>\n",
       "      <td>1.833360e+03</td>\n",
       "      <td>1.00000</td>\n",
       "      <td>2019.000000</td>\n",
       "    </tr>\n",
       "    <tr>\n",
       "      <th>50%</th>\n",
       "      <td>1.581512e+07</td>\n",
       "      <td>1.000000</td>\n",
       "      <td>9.000000e+00</td>\n",
       "      <td>5.617700e+03</td>\n",
       "      <td>8.550000e+03</td>\n",
       "      <td>1.00000</td>\n",
       "      <td>2020.000000</td>\n",
       "    </tr>\n",
       "    <tr>\n",
       "      <th>75%</th>\n",
       "      <td>1.873137e+07</td>\n",
       "      <td>1.000000</td>\n",
       "      <td>1.500000e+02</td>\n",
       "      <td>2.414549e+04</td>\n",
       "      <td>4.025000e+04</td>\n",
       "      <td>1.00000</td>\n",
       "      <td>2021.000000</td>\n",
       "    </tr>\n",
       "    <tr>\n",
       "      <th>max</th>\n",
       "      <td>1.110033e+09</td>\n",
       "      <td>1.000000</td>\n",
       "      <td>1.000000e+09</td>\n",
       "      <td>5.846750e+08</td>\n",
       "      <td>1.882648e+10</td>\n",
       "      <td>1.00000</td>\n",
       "      <td>2022.000000</td>\n",
       "    </tr>\n",
       "  </tbody>\n",
       "</table>\n",
       "</div>"
      ],
      "text/plain": [
       "       WEB_QUOTE_NUM            WON      PART_QTY   QUOTE_PRICE  \\\n",
       "count   4.786080e+05  478608.000000  4.786080e+05  4.786080e+05   \n",
       "mean    1.668992e+08       0.519707  4.731914e+04  7.389219e+04   \n",
       "std     3.668802e+08       0.499612  6.437065e+06  2.677050e+06   \n",
       "min     8.009760e+05       0.000000  0.000000e+00  0.000000e+00   \n",
       "25%     1.281187e+07       0.000000  1.000000e+00  1.200000e+03   \n",
       "50%     1.581512e+07       1.000000  9.000000e+00  5.617700e+03   \n",
       "75%     1.873137e+07       1.000000  1.500000e+02  2.414549e+04   \n",
       "max     1.110033e+09       1.000000  1.000000e+09  5.846750e+08   \n",
       "\n",
       "       ENTITLED_PRICE  EXCHANGE_RATE      SUBMIT_YR  \n",
       "count    4.786080e+05   478608.00000  478608.000000  \n",
       "mean     6.931678e+05        0.97557    2020.096398  \n",
       "std      5.050222e+07        0.06883       0.986004  \n",
       "min      0.000000e+00        0.76746    2019.000000  \n",
       "25%      1.833360e+03        1.00000    2019.000000  \n",
       "50%      8.550000e+03        1.00000    2020.000000  \n",
       "75%      4.025000e+04        1.00000    2021.000000  \n",
       "max      1.882648e+10        1.00000    2022.000000  "
      ]
     },
     "execution_count": 163,
     "metadata": {},
     "output_type": "execute_result"
    }
   ],
   "source": [
    "data.describe()"
   ]
  },
  {
   "cell_type": "markdown",
   "metadata": {},
   "source": [
    "Chi square of association for categorical variables"
   ]
  },
  {
   "cell_type": "code",
   "execution_count": 165,
   "metadata": {},
   "outputs": [],
   "source": [
    "continous_cols = [\"PART_QTY\",\"QUOTE_PRICE\",\"ENTITLED_PRICE\",\"EXCHANGE_RATE\",\"SUBMIT_DATE\",\"START_DATE\",\"END_DATE\",\"SUBMIT_YR\"]\n",
    "\n",
    "categorical_cols = ['PROD_CATEGORY', 'CUSTOMER_NUM', 'CNTRY_CODE',\n",
    "       'PART_NUM', 'CURRNCY_CODE', 'INDUSTRY_CODE', 'INDUSTRY_DESC']\n"
   ]
  },
  {
   "cell_type": "code",
   "execution_count": 109,
   "metadata": {},
   "outputs": [
    {
     "name": "stderr",
     "output_type": "stream",
     "text": [
      "/var/folders/6b/qlcxg39s5r34xw0601nhyb4c0000gn/T/ipykernel_43861/596082589.py:10: FutureWarning: The frame.append method is deprecated and will be removed from pandas in a future version. Use pandas.concat instead.\n",
      "  p_values = p_values.append(d,ignore_index=True)\n",
      "/var/folders/6b/qlcxg39s5r34xw0601nhyb4c0000gn/T/ipykernel_43861/596082589.py:10: FutureWarning: The frame.append method is deprecated and will be removed from pandas in a future version. Use pandas.concat instead.\n",
      "  p_values = p_values.append(d,ignore_index=True)\n",
      "/var/folders/6b/qlcxg39s5r34xw0601nhyb4c0000gn/T/ipykernel_43861/596082589.py:10: FutureWarning: The frame.append method is deprecated and will be removed from pandas in a future version. Use pandas.concat instead.\n",
      "  p_values = p_values.append(d,ignore_index=True)\n",
      "/var/folders/6b/qlcxg39s5r34xw0601nhyb4c0000gn/T/ipykernel_43861/596082589.py:10: FutureWarning: The frame.append method is deprecated and will be removed from pandas in a future version. Use pandas.concat instead.\n",
      "  p_values = p_values.append(d,ignore_index=True)\n",
      "/var/folders/6b/qlcxg39s5r34xw0601nhyb4c0000gn/T/ipykernel_43861/596082589.py:10: FutureWarning: The frame.append method is deprecated and will be removed from pandas in a future version. Use pandas.concat instead.\n",
      "  p_values = p_values.append(d,ignore_index=True)\n",
      "/var/folders/6b/qlcxg39s5r34xw0601nhyb4c0000gn/T/ipykernel_43861/596082589.py:10: FutureWarning: The frame.append method is deprecated and will be removed from pandas in a future version. Use pandas.concat instead.\n",
      "  p_values = p_values.append(d,ignore_index=True)\n",
      "/var/folders/6b/qlcxg39s5r34xw0601nhyb4c0000gn/T/ipykernel_43861/596082589.py:10: FutureWarning: The frame.append method is deprecated and will be removed from pandas in a future version. Use pandas.concat instead.\n",
      "  p_values = p_values.append(d,ignore_index=True)\n"
     ]
    }
   ],
   "source": [
    "p_values = pd.DataFrame()\n",
    "\n",
    "for c in categorical_cols:\n",
    "        \n",
    "    chisqt = pd.crosstab(data[\"WON\"], data[c], margins=True)\n",
    "    value = np.array([chisqt.iloc[0][0:len(set(data[c]))+2].values,\n",
    "                      chisqt.iloc[1][0:len(set(data[c]))+2].values])\n",
    "    c = chi2_contingency(value)[0:3]\n",
    "    d = {\"statistic\":c[0],\"p-value\":c[1],\"dof\":c[2]}\n",
    "    p_values = p_values.append(d,ignore_index=True)  "
   ]
  },
  {
   "cell_type": "code",
   "execution_count": 110,
   "metadata": {},
   "outputs": [
    {
     "data": {
      "text/html": [
       "<div>\n",
       "<style scoped>\n",
       "    .dataframe tbody tr th:only-of-type {\n",
       "        vertical-align: middle;\n",
       "    }\n",
       "\n",
       "    .dataframe tbody tr th {\n",
       "        vertical-align: top;\n",
       "    }\n",
       "\n",
       "    .dataframe thead th {\n",
       "        text-align: right;\n",
       "    }\n",
       "</style>\n",
       "<table border=\"1\" class=\"dataframe\">\n",
       "  <thead>\n",
       "    <tr style=\"text-align: right;\">\n",
       "      <th></th>\n",
       "      <th>statistic</th>\n",
       "      <th>p-value</th>\n",
       "      <th>dof</th>\n",
       "      <th>column</th>\n",
       "    </tr>\n",
       "  </thead>\n",
       "  <tbody>\n",
       "    <tr>\n",
       "      <th>0</th>\n",
       "      <td>7201.169242</td>\n",
       "      <td>0.000000</td>\n",
       "      <td>4.0</td>\n",
       "      <td>PROD_CATEGORY</td>\n",
       "    </tr>\n",
       "    <tr>\n",
       "      <th>1</th>\n",
       "      <td>214616.980976</td>\n",
       "      <td>0.000000</td>\n",
       "      <td>40051.0</td>\n",
       "      <td>CUSTOMER_NUM</td>\n",
       "    </tr>\n",
       "    <tr>\n",
       "      <th>2</th>\n",
       "      <td>0.046879</td>\n",
       "      <td>0.976833</td>\n",
       "      <td>2.0</td>\n",
       "      <td>CNTRY_CODE</td>\n",
       "    </tr>\n",
       "    <tr>\n",
       "      <th>3</th>\n",
       "      <td>54947.079384</td>\n",
       "      <td>0.000000</td>\n",
       "      <td>12847.0</td>\n",
       "      <td>PART_NUM</td>\n",
       "    </tr>\n",
       "    <tr>\n",
       "      <th>4</th>\n",
       "      <td>0.132611</td>\n",
       "      <td>0.935845</td>\n",
       "      <td>2.0</td>\n",
       "      <td>CURRNCY_CODE</td>\n",
       "    </tr>\n",
       "    <tr>\n",
       "      <th>5</th>\n",
       "      <td>15669.104299</td>\n",
       "      <td>0.000000</td>\n",
       "      <td>25.0</td>\n",
       "      <td>INDUSTRY_CODE</td>\n",
       "    </tr>\n",
       "    <tr>\n",
       "      <th>6</th>\n",
       "      <td>15669.104299</td>\n",
       "      <td>0.000000</td>\n",
       "      <td>25.0</td>\n",
       "      <td>INDUSTRY_DESC</td>\n",
       "    </tr>\n",
       "  </tbody>\n",
       "</table>\n",
       "</div>"
      ],
      "text/plain": [
       "       statistic   p-value      dof         column\n",
       "0    7201.169242  0.000000      4.0  PROD_CATEGORY\n",
       "1  214616.980976  0.000000  40051.0   CUSTOMER_NUM\n",
       "2       0.046879  0.976833      2.0     CNTRY_CODE\n",
       "3   54947.079384  0.000000  12847.0       PART_NUM\n",
       "4       0.132611  0.935845      2.0   CURRNCY_CODE\n",
       "5   15669.104299  0.000000     25.0  INDUSTRY_CODE\n",
       "6   15669.104299  0.000000     25.0  INDUSTRY_DESC"
      ]
     },
     "execution_count": 110,
     "metadata": {},
     "output_type": "execute_result"
    }
   ],
   "source": [
    "p_values[\"column\"] = categorical_cols\n",
    "p_values"
   ]
  },
  {
   "cell_type": "markdown",
   "metadata": {},
   "source": [
    "ANOVA test for continuous variables"
   ]
  },
  {
   "cell_type": "code",
   "execution_count": 113,
   "metadata": {},
   "outputs": [
    {
     "data": {
      "text/html": [
       "<div>\n",
       "<style scoped>\n",
       "    .dataframe tbody tr th:only-of-type {\n",
       "        vertical-align: middle;\n",
       "    }\n",
       "\n",
       "    .dataframe tbody tr th {\n",
       "        vertical-align: top;\n",
       "    }\n",
       "\n",
       "    .dataframe thead th {\n",
       "        text-align: right;\n",
       "    }\n",
       "</style>\n",
       "<table border=\"1\" class=\"dataframe\">\n",
       "  <thead>\n",
       "    <tr style=\"text-align: right;\">\n",
       "      <th></th>\n",
       "      <th>columns</th>\n",
       "      <th>Fvalue</th>\n",
       "      <th>Pvalue</th>\n",
       "    </tr>\n",
       "  </thead>\n",
       "  <tbody>\n",
       "    <tr>\n",
       "      <th>0</th>\n",
       "      <td>PART_QTY</td>\n",
       "      <td>9.919329</td>\n",
       "      <td>1.635620e-03</td>\n",
       "    </tr>\n",
       "    <tr>\n",
       "      <th>1</th>\n",
       "      <td>QUOTE_PRICE</td>\n",
       "      <td>95.913494</td>\n",
       "      <td>1.206046e-22</td>\n",
       "    </tr>\n",
       "    <tr>\n",
       "      <th>2</th>\n",
       "      <td>ENTITLED_PRICE</td>\n",
       "      <td>7.312795</td>\n",
       "      <td>6.846776e-03</td>\n",
       "    </tr>\n",
       "    <tr>\n",
       "      <th>3</th>\n",
       "      <td>EXCHANGE_RATE</td>\n",
       "      <td>0.270425</td>\n",
       "      <td>6.030471e-01</td>\n",
       "    </tr>\n",
       "  </tbody>\n",
       "</table>\n",
       "</div>"
      ],
      "text/plain": [
       "          columns     Fvalue        Pvalue\n",
       "0        PART_QTY   9.919329  1.635620e-03\n",
       "1     QUOTE_PRICE  95.913494  1.206046e-22\n",
       "2  ENTITLED_PRICE   7.312795  6.846776e-03\n",
       "3   EXCHANGE_RATE   0.270425  6.030471e-01"
      ]
     },
     "execution_count": 113,
     "metadata": {},
     "output_type": "execute_result"
    }
   ],
   "source": [
    "f_values,p_values = f_classif(data[[\"PART_QTY\",\"QUOTE_PRICE\",\"ENTITLED_PRICE\",\"EXCHANGE_RATE\"]], data[\"WON\"])\n",
    "anova = pd.DataFrame()\n",
    "anova[\"columns\"] = [\"PART_QTY\",\"QUOTE_PRICE\",\"ENTITLED_PRICE\",\"EXCHANGE_RATE\"]\n",
    "anova[\"Fvalue\"] = f_values\n",
    "anova[\"Pvalue\"] = p_values\n",
    "anova"
   ]
  },
  {
   "cell_type": "markdown",
   "metadata": {},
   "source": [
    "CORRELATION HEAT MAP TO CHECK MULTICOLINEARITY AMONG FEATURES"
   ]
  },
  {
   "cell_type": "code",
   "execution_count": 166,
   "metadata": {},
   "outputs": [
    {
     "data": {
      "text/plain": [
       "<AxesSubplot:>"
      ]
     },
     "execution_count": 166,
     "metadata": {},
     "output_type": "execute_result"
    },
    {
     "data": {
      "image/png": "[encoded data removed]",
      "text/plain": [
       "<Figure size 432x288 with 2 Axes>"
      ]
     },
     "metadata": {
      "needs_background": "light"
     },
     "output_type": "display_data"
    }
   ],
   "source": [
    "sns.heatmap(data[continous_cols].corr())"
   ]
  },
  {
   "cell_type": "markdown",
   "metadata": {},
   "source": [
    "### Question 1.1"
   ]
  },
  {
   "cell_type": "code",
   "execution_count": 118,
   "metadata": {},
   "outputs": [
    {
     "name": "stderr",
     "output_type": "stream",
     "text": [
      "/var/folders/6b/qlcxg39s5r34xw0601nhyb4c0000gn/T/ipykernel_43861/2916698673.py:4: FutureWarning: The frame.append method is deprecated and will be removed from pandas in a future version. Use pandas.concat instead.\n",
      "  revenues = revenues.append({\"Product\":n,\"Revenue\": g[\"QUOTE_PRICE\"].sum()},ignore_index = True)\n",
      "/var/folders/6b/qlcxg39s5r34xw0601nhyb4c0000gn/T/ipykernel_43861/2916698673.py:4: FutureWarning: The frame.append method is deprecated and will be removed from pandas in a future version. Use pandas.concat instead.\n",
      "  revenues = revenues.append({\"Product\":n,\"Revenue\": g[\"QUOTE_PRICE\"].sum()},ignore_index = True)\n",
      "/var/folders/6b/qlcxg39s5r34xw0601nhyb4c0000gn/T/ipykernel_43861/2916698673.py:4: FutureWarning: The frame.append method is deprecated and will be removed from pandas in a future version. Use pandas.concat instead.\n",
      "  revenues = revenues.append({\"Product\":n,\"Revenue\": g[\"QUOTE_PRICE\"].sum()},ignore_index = True)\n",
      "/var/folders/6b/qlcxg39s5r34xw0601nhyb4c0000gn/T/ipykernel_43861/2916698673.py:4: FutureWarning: The frame.append method is deprecated and will be removed from pandas in a future version. Use pandas.concat instead.\n",
      "  revenues = revenues.append({\"Product\":n,\"Revenue\": g[\"QUOTE_PRICE\"].sum()},ignore_index = True)\n"
     ]
    }
   ],
   "source": [
    "data_2021 = data[data[\"SUBMIT_YR\"]==2021]\n",
    "revenues = pd.DataFrame()\n",
    "for n,g in data_2021.groupby(\"PROD_CATEGORY\",0):\n",
    "    revenues = revenues.append({\"Product\":n,\"Revenue\": g[\"QUOTE_PRICE\"].sum()},ignore_index = True)\n"
   ]
  },
  {
   "cell_type": "code",
   "execution_count": 119,
   "metadata": {},
   "outputs": [
    {
     "data": {
      "text/html": [
       "<div>\n",
       "<style scoped>\n",
       "    .dataframe tbody tr th:only-of-type {\n",
       "        vertical-align: middle;\n",
       "    }\n",
       "\n",
       "    .dataframe tbody tr th {\n",
       "        vertical-align: top;\n",
       "    }\n",
       "\n",
       "    .dataframe thead th {\n",
       "        text-align: right;\n",
       "    }\n",
       "</style>\n",
       "<table border=\"1\" class=\"dataframe\">\n",
       "  <thead>\n",
       "    <tr style=\"text-align: right;\">\n",
       "      <th></th>\n",
       "      <th>Product</th>\n",
       "      <th>Revenue</th>\n",
       "    </tr>\n",
       "  </thead>\n",
       "  <tbody>\n",
       "    <tr>\n",
       "      <th>0</th>\n",
       "      <td>SSW</td>\n",
       "      <td>9.661308e+08</td>\n",
       "    </tr>\n",
       "    <tr>\n",
       "      <th>1</th>\n",
       "      <td>SaaS</td>\n",
       "      <td>1.613708e+09</td>\n",
       "    </tr>\n",
       "    <tr>\n",
       "      <th>2</th>\n",
       "      <td>SnS Renew</td>\n",
       "      <td>5.279211e+09</td>\n",
       "    </tr>\n",
       "    <tr>\n",
       "      <th>3</th>\n",
       "      <td>Subscription</td>\n",
       "      <td>1.113450e+09</td>\n",
       "    </tr>\n",
       "  </tbody>\n",
       "</table>\n",
       "</div>"
      ],
      "text/plain": [
       "        Product       Revenue\n",
       "0           SSW  9.661308e+08\n",
       "1          SaaS  1.613708e+09\n",
       "2     SnS Renew  5.279211e+09\n",
       "3  Subscription  1.113450e+09"
      ]
     },
     "execution_count": 119,
     "metadata": {},
     "output_type": "execute_result"
    }
   ],
   "source": [
    "revenues"
   ]
  },
  {
   "cell_type": "markdown",
   "metadata": {},
   "source": [
    "## Data Cleaning and Feature Engineering"
   ]
  },
  {
   "cell_type": "markdown",
   "metadata": {},
   "source": [
    "Convert dates to timestamps"
   ]
  },
  {
   "cell_type": "code",
   "execution_count": 167,
   "metadata": {},
   "outputs": [],
   "source": [
    "for c in [\"SUBMIT_DATE\",\"START_DATE\",\"END_DATE\"]:\n",
    "    data[c] = pd.to_datetime(data[c])\n",
    "    data[c]= data[c].map(dt.datetime.toordinal)"
   ]
  },
  {
   "cell_type": "code",
   "execution_count": 168,
   "metadata": {},
   "outputs": [],
   "source": [
    "##Creating new feature\n",
    "data[\"Duration\"] = data[\"END_DATE\"]-data[\"START_DATE\"]\n"
   ]
  },
  {
   "cell_type": "markdown",
   "metadata": {},
   "source": [
    "Create dummy variables for categorical date"
   ]
  },
  {
   "cell_type": "code",
   "execution_count": 169,
   "metadata": {},
   "outputs": [],
   "source": [
    "encoded_data = pd.get_dummies(data, columns = ['PROD_CATEGORY', 'INDUSTRY_CODE',\"CNTRY_CODE\",\"CURRNCY_CODE\"])\n",
    "\n",
    "X = encoded_data.drop(columns = [\"WON\",\"WEB_QUOTE_NUM\",\"CUSTOMER_NUM\",\"INDUSTRY_DESC\",\"PART_NUM\",\"SUBMIT_YR\",\"START_DATE\",\"END_DATE\"])\n",
    "y = encoded_data[\"WON\"]\n",
    "X_train, X_test, y_train, y_test = train_test_split(X, y, test_size=0.2, random_state=10)"
   ]
  },
  {
   "cell_type": "markdown",
   "metadata": {},
   "source": [
    "## Random Forest Classifier for variable selection "
   ]
  },
  {
   "cell_type": "code",
   "execution_count": 177,
   "metadata": {},
   "outputs": [
    {
     "data": {
      "text/html": [
       "<style>#sk-container-id-12 {color: black;background-color: white;}#sk-container-id-12 pre{padding: 0;}#sk-container-id-12 div.sk-toggleable {background-color: white;}#sk-container-id-12 label.sk-toggleable__label {cursor: pointer;display: block;width: 100%;margin-bottom: 0;padding: 0.3em;box-sizing: border-box;text-align: center;}#sk-container-id-12 label.sk-toggleable__label-arrow:before {content: \"▸\";float: left;margin-right: 0.25em;color: #696969;}#sk-container-id-12 label.sk-toggleable__label-arrow:hover:before {color: black;}#sk-container-id-12 div.sk-estimator:hover label.sk-toggleable__label-arrow:before {color: black;}#sk-container-id-12 div.sk-toggleable__content {max-height: 0;max-width: 0;overflow: hidden;text-align: left;background-color: #f0f8ff;}#sk-container-id-12 div.sk-toggleable__content pre {margin: 0.2em;color: black;border-radius: 0.25em;background-color: #f0f8ff;}#sk-container-id-12 input.sk-toggleable__control:checked~div.sk-toggleable__content {max-height: 200px;max-width: 100%;overflow: auto;}#sk-container-id-12 input.sk-toggleable__control:checked~label.sk-toggleable__label-arrow:before {content: \"▾\";}#sk-container-id-12 div.sk-estimator input.sk-toggleable__control:checked~label.sk-toggleable__label {background-color: #d4ebff;}#sk-container-id-12 div.sk-label input.sk-toggleable__control:checked~label.sk-toggleable__label {background-color: #d4ebff;}#sk-container-id-12 input.sk-hidden--visually {border: 0;clip: rect(1px 1px 1px 1px);clip: rect(1px, 1px, 1px, 1px);height: 1px;margin: -1px;overflow: hidden;padding: 0;position: absolute;width: 1px;}#sk-container-id-12 div.sk-estimator {font-family: monospace;background-color: #f0f8ff;border: 1px dotted black;border-radius: 0.25em;box-sizing: border-box;margin-bottom: 0.5em;}#sk-container-id-12 div.sk-estimator:hover {background-color: #d4ebff;}#sk-container-id-12 div.sk-parallel-item::after {content: \"\";width: 100%;border-bottom: 1px solid gray;flex-grow: 1;}#sk-container-id-12 div.sk-label:hover label.sk-toggleable__label {background-color: #d4ebff;}#sk-container-id-12 div.sk-serial::before {content: \"\";position: absolute;border-left: 1px solid gray;box-sizing: border-box;top: 0;bottom: 0;left: 50%;z-index: 0;}#sk-container-id-12 div.sk-serial {display: flex;flex-direction: column;align-items: center;background-color: white;padding-right: 0.2em;padding-left: 0.2em;position: relative;}#sk-container-id-12 div.sk-item {position: relative;z-index: 1;}#sk-container-id-12 div.sk-parallel {display: flex;align-items: stretch;justify-content: center;background-color: white;position: relative;}#sk-container-id-12 div.sk-item::before, #sk-container-id-12 div.sk-parallel-item::before {content: \"\";position: absolute;border-left: 1px solid gray;box-sizing: border-box;top: 0;bottom: 0;left: 50%;z-index: -1;}#sk-container-id-12 div.sk-parallel-item {display: flex;flex-direction: column;z-index: 1;position: relative;background-color: white;}#sk-container-id-12 div.sk-parallel-item:first-child::after {align-self: flex-end;width: 50%;}#sk-container-id-12 div.sk-parallel-item:last-child::after {align-self: flex-start;width: 50%;}#sk-container-id-12 div.sk-parallel-item:only-child::after {width: 0;}#sk-container-id-12 div.sk-dashed-wrapped {border: 1px dashed gray;margin: 0 0.4em 0.5em 0.4em;box-sizing: border-box;padding-bottom: 0.4em;background-color: white;}#sk-container-id-12 div.sk-label label {font-family: monospace;font-weight: bold;display: inline-block;line-height: 1.2em;}#sk-container-id-12 div.sk-label-container {text-align: center;}#sk-container-id-12 div.sk-container {/* jupyter's `normalize.less` sets `[hidden] { display: none; }` but bootstrap.min.css set `[hidden] { display: none !important; }` so we also need the `!important` here to be able to override the default hidden behavior on the sphinx rendered scikit-learn.org. See: https://github.com/scikit-learn/scikit-learn/issues/21755 */display: inline-block !important;position: relative;}#sk-container-id-12 div.sk-text-repr-fallback {display: none;}</style><div id=\"sk-container-id-12\" class=\"sk-top-container\"><div class=\"sk-text-repr-fallback\"><pre>SelectFromModel(estimator=RandomForestClassifier())</pre><b>In a Jupyter environment, please rerun this cell to show the HTML representation or trust the notebook. <br />On GitHub, the HTML representation is unable to render, please try loading this page with nbviewer.org.</b></div><div class=\"sk-container\" hidden><div class=\"sk-item sk-dashed-wrapped\"><div class=\"sk-label-container\"><div class=\"sk-label sk-toggleable\"><input class=\"sk-toggleable__control sk-hidden--visually\" id=\"sk-estimator-id-12\" type=\"checkbox\" ><label for=\"sk-estimator-id-12\" class=\"sk-toggleable__label sk-toggleable__label-arrow\">SelectFromModel</label><div class=\"sk-toggleable__content\"><pre>SelectFromModel(estimator=RandomForestClassifier())</pre></div></div></div><div class=\"sk-parallel\"><div class=\"sk-parallel-item\"><div class=\"sk-item\"><div class=\"sk-label-container\"><div class=\"sk-label sk-toggleable\"><input class=\"sk-toggleable__control sk-hidden--visually\" id=\"sk-estimator-id-13\" type=\"checkbox\" ><label for=\"sk-estimator-id-13\" class=\"sk-toggleable__label sk-toggleable__label-arrow\">estimator: RandomForestClassifier</label><div class=\"sk-toggleable__content\"><pre>RandomForestClassifier()</pre></div></div></div><div class=\"sk-serial\"><div class=\"sk-item\"><div class=\"sk-estimator sk-toggleable\"><input class=\"sk-toggleable__control sk-hidden--visually\" id=\"sk-estimator-id-14\" type=\"checkbox\" ><label for=\"sk-estimator-id-14\" class=\"sk-toggleable__label sk-toggleable__label-arrow\">RandomForestClassifier</label><div class=\"sk-toggleable__content\"><pre>RandomForestClassifier()</pre></div></div></div></div></div></div></div></div></div></div>"
      ],
      "text/plain": [
       "SelectFromModel(estimator=RandomForestClassifier())"
      ]
     },
     "execution_count": 177,
     "metadata": {},
     "output_type": "execute_result"
    }
   ],
   "source": [
    "sel = SelectFromModel(RandomForestClassifier(n_estimators = 100))\n",
    "sel.fit(X_train, y_train)"
   ]
  },
  {
   "cell_type": "code",
   "execution_count": 179,
   "metadata": {},
   "outputs": [
    {
     "name": "stdout",
     "output_type": "stream",
     "text": [
      "Index(['PART_QTY', 'QUOTE_PRICE', 'ENTITLED_PRICE', 'SUBMIT_DATE', 'Duration'], dtype='object')\n"
     ]
    }
   ],
   "source": [
    "selected_feat= X_train.columns[(sel.get_support())]\n",
    "print(selected_feat)"
   ]
  },
  {
   "cell_type": "markdown",
   "metadata": {},
   "source": [
    "'PART_QTY', 'QUOTE_PRICE', 'ENTITLED_PRICE', 'SUBMIT_DATE', 'Duration' are most significant drivers "
   ]
  },
  {
   "cell_type": "markdown",
   "metadata": {},
   "source": [
    "Logistic Regression on selected variables"
   ]
  },
  {
   "cell_type": "code",
   "execution_count": 202,
   "metadata": {},
   "outputs": [
    {
     "data": {
      "text/html": [
       "<style>#sk-container-id-17 {color: black;background-color: white;}#sk-container-id-17 pre{padding: 0;}#sk-container-id-17 div.sk-toggleable {background-color: white;}#sk-container-id-17 label.sk-toggleable__label {cursor: pointer;display: block;width: 100%;margin-bottom: 0;padding: 0.3em;box-sizing: border-box;text-align: center;}#sk-container-id-17 label.sk-toggleable__label-arrow:before {content: \"▸\";float: left;margin-right: 0.25em;color: #696969;}#sk-container-id-17 label.sk-toggleable__label-arrow:hover:before {color: black;}#sk-container-id-17 div.sk-estimator:hover label.sk-toggleable__label-arrow:before {color: black;}#sk-container-id-17 div.sk-toggleable__content {max-height: 0;max-width: 0;overflow: hidden;text-align: left;background-color: #f0f8ff;}#sk-container-id-17 div.sk-toggleable__content pre {margin: 0.2em;color: black;border-radius: 0.25em;background-color: #f0f8ff;}#sk-container-id-17 input.sk-toggleable__control:checked~div.sk-toggleable__content {max-height: 200px;max-width: 100%;overflow: auto;}#sk-container-id-17 input.sk-toggleable__control:checked~label.sk-toggleable__label-arrow:before {content: \"▾\";}#sk-container-id-17 div.sk-estimator input.sk-toggleable__control:checked~label.sk-toggleable__label {background-color: #d4ebff;}#sk-container-id-17 div.sk-label input.sk-toggleable__control:checked~label.sk-toggleable__label {background-color: #d4ebff;}#sk-container-id-17 input.sk-hidden--visually {border: 0;clip: rect(1px 1px 1px 1px);clip: rect(1px, 1px, 1px, 1px);height: 1px;margin: -1px;overflow: hidden;padding: 0;position: absolute;width: 1px;}#sk-container-id-17 div.sk-estimator {font-family: monospace;background-color: #f0f8ff;border: 1px dotted black;border-radius: 0.25em;box-sizing: border-box;margin-bottom: 0.5em;}#sk-container-id-17 div.sk-estimator:hover {background-color: #d4ebff;}#sk-container-id-17 div.sk-parallel-item::after {content: \"\";width: 100%;border-bottom: 1px solid gray;flex-grow: 1;}#sk-container-id-17 div.sk-label:hover label.sk-toggleable__label {background-color: #d4ebff;}#sk-container-id-17 div.sk-serial::before {content: \"\";position: absolute;border-left: 1px solid gray;box-sizing: border-box;top: 0;bottom: 0;left: 50%;z-index: 0;}#sk-container-id-17 div.sk-serial {display: flex;flex-direction: column;align-items: center;background-color: white;padding-right: 0.2em;padding-left: 0.2em;position: relative;}#sk-container-id-17 div.sk-item {position: relative;z-index: 1;}#sk-container-id-17 div.sk-parallel {display: flex;align-items: stretch;justify-content: center;background-color: white;position: relative;}#sk-container-id-17 div.sk-item::before, #sk-container-id-17 div.sk-parallel-item::before {content: \"\";position: absolute;border-left: 1px solid gray;box-sizing: border-box;top: 0;bottom: 0;left: 50%;z-index: -1;}#sk-container-id-17 div.sk-parallel-item {display: flex;flex-direction: column;z-index: 1;position: relative;background-color: white;}#sk-container-id-17 div.sk-parallel-item:first-child::after {align-self: flex-end;width: 50%;}#sk-container-id-17 div.sk-parallel-item:last-child::after {align-self: flex-start;width: 50%;}#sk-container-id-17 div.sk-parallel-item:only-child::after {width: 0;}#sk-container-id-17 div.sk-dashed-wrapped {border: 1px dashed gray;margin: 0 0.4em 0.5em 0.4em;box-sizing: border-box;padding-bottom: 0.4em;background-color: white;}#sk-container-id-17 div.sk-label label {font-family: monospace;font-weight: bold;display: inline-block;line-height: 1.2em;}#sk-container-id-17 div.sk-label-container {text-align: center;}#sk-container-id-17 div.sk-container {/* jupyter's `normalize.less` sets `[hidden] { display: none; }` but bootstrap.min.css set `[hidden] { display: none !important; }` so we also need the `!important` here to be able to override the default hidden behavior on the sphinx rendered scikit-learn.org. See: https://github.com/scikit-learn/scikit-learn/issues/21755 */display: inline-block !important;position: relative;}#sk-container-id-17 div.sk-text-repr-fallback {display: none;}</style><div id=\"sk-container-id-17\" class=\"sk-top-container\"><div class=\"sk-text-repr-fallback\"><pre>LogisticRegression()</pre><b>In a Jupyter environment, please rerun this cell to show the HTML representation or trust the notebook. <br />On GitHub, the HTML representation is unable to render, please try loading this page with nbviewer.org.</b></div><div class=\"sk-container\" hidden><div class=\"sk-item\"><div class=\"sk-estimator sk-toggleable\"><input class=\"sk-toggleable__control sk-hidden--visually\" id=\"sk-estimator-id-19\" type=\"checkbox\" checked><label for=\"sk-estimator-id-19\" class=\"sk-toggleable__label sk-toggleable__label-arrow\">LogisticRegression</label><div class=\"sk-toggleable__content\"><pre>LogisticRegression()</pre></div></div></div></div></div>"
      ],
      "text/plain": [
       "LogisticRegression()"
      ]
     },
     "execution_count": 202,
     "metadata": {},
     "output_type": "execute_result"
    }
   ],
   "source": [
    "X_train = X_train[selected_feat]\n",
    "X_test = X_test[selected_feat]\n",
    "\n",
    "log = LogisticRegression()\n",
    "log.fit(X_train,y_train)"
   ]
  },
  {
   "cell_type": "code",
   "execution_count": 203,
   "metadata": {},
   "outputs": [
    {
     "name": "stdout",
     "output_type": "stream",
     "text": [
      "[[ 2713 43179]\n",
      " [ 1788 48042]]\n"
     ]
    }
   ],
   "source": [
    "print(confusion_matrix(y_test,log.predict(X_test)))"
   ]
  },
  {
   "cell_type": "code",
   "execution_count": 204,
   "metadata": {},
   "outputs": [
    {
     "data": {
      "text/plain": [
       "0.5302333841750068"
      ]
     },
     "execution_count": 204,
     "metadata": {},
     "output_type": "execute_result"
    }
   ],
   "source": [
    "accuracy_score(y_test,log.predict(X_test))"
   ]
  },
  {
   "cell_type": "markdown",
   "metadata": {},
   "source": [
    "Random Forest on selected variables"
   ]
  },
  {
   "cell_type": "code",
   "execution_count": 185,
   "metadata": {},
   "outputs": [
    {
     "data": {
      "text/html": [
       "<style>#sk-container-id-15 {color: black;background-color: white;}#sk-container-id-15 pre{padding: 0;}#sk-container-id-15 div.sk-toggleable {background-color: white;}#sk-container-id-15 label.sk-toggleable__label {cursor: pointer;display: block;width: 100%;margin-bottom: 0;padding: 0.3em;box-sizing: border-box;text-align: center;}#sk-container-id-15 label.sk-toggleable__label-arrow:before {content: \"▸\";float: left;margin-right: 0.25em;color: #696969;}#sk-container-id-15 label.sk-toggleable__label-arrow:hover:before {color: black;}#sk-container-id-15 div.sk-estimator:hover label.sk-toggleable__label-arrow:before {color: black;}#sk-container-id-15 div.sk-toggleable__content {max-height: 0;max-width: 0;overflow: hidden;text-align: left;background-color: #f0f8ff;}#sk-container-id-15 div.sk-toggleable__content pre {margin: 0.2em;color: black;border-radius: 0.25em;background-color: #f0f8ff;}#sk-container-id-15 input.sk-toggleable__control:checked~div.sk-toggleable__content {max-height: 200px;max-width: 100%;overflow: auto;}#sk-container-id-15 input.sk-toggleable__control:checked~label.sk-toggleable__label-arrow:before {content: \"▾\";}#sk-container-id-15 div.sk-estimator input.sk-toggleable__control:checked~label.sk-toggleable__label {background-color: #d4ebff;}#sk-container-id-15 div.sk-label input.sk-toggleable__control:checked~label.sk-toggleable__label {background-color: #d4ebff;}#sk-container-id-15 input.sk-hidden--visually {border: 0;clip: rect(1px 1px 1px 1px);clip: rect(1px, 1px, 1px, 1px);height: 1px;margin: -1px;overflow: hidden;padding: 0;position: absolute;width: 1px;}#sk-container-id-15 div.sk-estimator {font-family: monospace;background-color: #f0f8ff;border: 1px dotted black;border-radius: 0.25em;box-sizing: border-box;margin-bottom: 0.5em;}#sk-container-id-15 div.sk-estimator:hover {background-color: #d4ebff;}#sk-container-id-15 div.sk-parallel-item::after {content: \"\";width: 100%;border-bottom: 1px solid gray;flex-grow: 1;}#sk-container-id-15 div.sk-label:hover label.sk-toggleable__label {background-color: #d4ebff;}#sk-container-id-15 div.sk-serial::before {content: \"\";position: absolute;border-left: 1px solid gray;box-sizing: border-box;top: 0;bottom: 0;left: 50%;z-index: 0;}#sk-container-id-15 div.sk-serial {display: flex;flex-direction: column;align-items: center;background-color: white;padding-right: 0.2em;padding-left: 0.2em;position: relative;}#sk-container-id-15 div.sk-item {position: relative;z-index: 1;}#sk-container-id-15 div.sk-parallel {display: flex;align-items: stretch;justify-content: center;background-color: white;position: relative;}#sk-container-id-15 div.sk-item::before, #sk-container-id-15 div.sk-parallel-item::before {content: \"\";position: absolute;border-left: 1px solid gray;box-sizing: border-box;top: 0;bottom: 0;left: 50%;z-index: -1;}#sk-container-id-15 div.sk-parallel-item {display: flex;flex-direction: column;z-index: 1;position: relative;background-color: white;}#sk-container-id-15 div.sk-parallel-item:first-child::after {align-self: flex-end;width: 50%;}#sk-container-id-15 div.sk-parallel-item:last-child::after {align-self: flex-start;width: 50%;}#sk-container-id-15 div.sk-parallel-item:only-child::after {width: 0;}#sk-container-id-15 div.sk-dashed-wrapped {border: 1px dashed gray;margin: 0 0.4em 0.5em 0.4em;box-sizing: border-box;padding-bottom: 0.4em;background-color: white;}#sk-container-id-15 div.sk-label label {font-family: monospace;font-weight: bold;display: inline-block;line-height: 1.2em;}#sk-container-id-15 div.sk-label-container {text-align: center;}#sk-container-id-15 div.sk-container {/* jupyter's `normalize.less` sets `[hidden] { display: none; }` but bootstrap.min.css set `[hidden] { display: none !important; }` so we also need the `!important` here to be able to override the default hidden behavior on the sphinx rendered scikit-learn.org. See: https://github.com/scikit-learn/scikit-learn/issues/21755 */display: inline-block !important;position: relative;}#sk-container-id-15 div.sk-text-repr-fallback {display: none;}</style><div id=\"sk-container-id-15\" class=\"sk-top-container\"><div class=\"sk-text-repr-fallback\"><pre>RandomForestClassifier()</pre><b>In a Jupyter environment, please rerun this cell to show the HTML representation or trust the notebook. <br />On GitHub, the HTML representation is unable to render, please try loading this page with nbviewer.org.</b></div><div class=\"sk-container\" hidden><div class=\"sk-item\"><div class=\"sk-estimator sk-toggleable\"><input class=\"sk-toggleable__control sk-hidden--visually\" id=\"sk-estimator-id-17\" type=\"checkbox\" checked><label for=\"sk-estimator-id-17\" class=\"sk-toggleable__label sk-toggleable__label-arrow\">RandomForestClassifier</label><div class=\"sk-toggleable__content\"><pre>RandomForestClassifier()</pre></div></div></div></div></div>"
      ],
      "text/plain": [
       "RandomForestClassifier()"
      ]
     },
     "execution_count": 185,
     "metadata": {},
     "output_type": "execute_result"
    }
   ],
   "source": [
    "rf = RandomForestClassifier(n_estimators = 100)\n",
    "rf.fit(X_train,y_train)"
   ]
  },
  {
   "cell_type": "code",
   "execution_count": 186,
   "metadata": {},
   "outputs": [
    {
     "name": "stdout",
     "output_type": "stream",
     "text": [
      "[[32233 13659]\n",
      " [12811 37019]]\n"
     ]
    }
   ],
   "source": [
    "print(confusion_matrix(y_test,rf.predict(X_test)))"
   ]
  },
  {
   "cell_type": "code",
   "execution_count": 187,
   "metadata": {},
   "outputs": [
    {
     "data": {
      "text/plain": [
       "0.7234700486826435"
      ]
     },
     "execution_count": 187,
     "metadata": {},
     "output_type": "execute_result"
    }
   ],
   "source": [
    "accuracy_score(y_test,rf.predict(X_test))"
   ]
  },
  {
   "cell_type": "markdown",
   "metadata": {},
   "source": [
    "XGBoost On selected Variables"
   ]
  },
  {
   "cell_type": "code",
   "execution_count": 190,
   "metadata": {},
   "outputs": [
    {
     "name": "stderr",
     "output_type": "stream",
     "text": [
      "/opt/anaconda3/lib/python3.9/site-packages/xgboost/data.py:250: FutureWarning: pandas.Int64Index is deprecated and will be removed from pandas in a future version. Use pandas.Index with the appropriate dtype instead.\n",
      "  elif isinstance(data.columns, (pd.Int64Index, pd.RangeIndex)):\n"
     ]
    },
    {
     "name": "stdout",
     "output_type": "stream",
     "text": [
      "[02:29:22] WARNING: /var/folders/sy/f16zz6x50xz3113nwtb9bvq00000gp/T/abs_44tbtwf8c1/croots/recipe/xgboost-split_1659548960882/work/src/learner.cc:1115: Starting in XGBoost 1.3.0, the default evaluation metric used with the objective 'binary:logistic' was changed from 'error' to 'logloss'. Explicitly set eval_metric if you'd like to restore the old behavior.\n"
     ]
    },
    {
     "data": {
      "text/html": [
       "<style>#sk-container-id-16 {color: black;background-color: white;}#sk-container-id-16 pre{padding: 0;}#sk-container-id-16 div.sk-toggleable {background-color: white;}#sk-container-id-16 label.sk-toggleable__label {cursor: pointer;display: block;width: 100%;margin-bottom: 0;padding: 0.3em;box-sizing: border-box;text-align: center;}#sk-container-id-16 label.sk-toggleable__label-arrow:before {content: \"▸\";float: left;margin-right: 0.25em;color: #696969;}#sk-container-id-16 label.sk-toggleable__label-arrow:hover:before {color: black;}#sk-container-id-16 div.sk-estimator:hover label.sk-toggleable__label-arrow:before {color: black;}#sk-container-id-16 div.sk-toggleable__content {max-height: 0;max-width: 0;overflow: hidden;text-align: left;background-color: #f0f8ff;}#sk-container-id-16 div.sk-toggleable__content pre {margin: 0.2em;color: black;border-radius: 0.25em;background-color: #f0f8ff;}#sk-container-id-16 input.sk-toggleable__control:checked~div.sk-toggleable__content {max-height: 200px;max-width: 100%;overflow: auto;}#sk-container-id-16 input.sk-toggleable__control:checked~label.sk-toggleable__label-arrow:before {content: \"▾\";}#sk-container-id-16 div.sk-estimator input.sk-toggleable__control:checked~label.sk-toggleable__label {background-color: #d4ebff;}#sk-container-id-16 div.sk-label input.sk-toggleable__control:checked~label.sk-toggleable__label {background-color: #d4ebff;}#sk-container-id-16 input.sk-hidden--visually {border: 0;clip: rect(1px 1px 1px 1px);clip: rect(1px, 1px, 1px, 1px);height: 1px;margin: -1px;overflow: hidden;padding: 0;position: absolute;width: 1px;}#sk-container-id-16 div.sk-estimator {font-family: monospace;background-color: #f0f8ff;border: 1px dotted black;border-radius: 0.25em;box-sizing: border-box;margin-bottom: 0.5em;}#sk-container-id-16 div.sk-estimator:hover {background-color: #d4ebff;}#sk-container-id-16 div.sk-parallel-item::after {content: \"\";width: 100%;border-bottom: 1px solid gray;flex-grow: 1;}#sk-container-id-16 div.sk-label:hover label.sk-toggleable__label {background-color: #d4ebff;}#sk-container-id-16 div.sk-serial::before {content: \"\";position: absolute;border-left: 1px solid gray;box-sizing: border-box;top: 0;bottom: 0;left: 50%;z-index: 0;}#sk-container-id-16 div.sk-serial {display: flex;flex-direction: column;align-items: center;background-color: white;padding-right: 0.2em;padding-left: 0.2em;position: relative;}#sk-container-id-16 div.sk-item {position: relative;z-index: 1;}#sk-container-id-16 div.sk-parallel {display: flex;align-items: stretch;justify-content: center;background-color: white;position: relative;}#sk-container-id-16 div.sk-item::before, #sk-container-id-16 div.sk-parallel-item::before {content: \"\";position: absolute;border-left: 1px solid gray;box-sizing: border-box;top: 0;bottom: 0;left: 50%;z-index: -1;}#sk-container-id-16 div.sk-parallel-item {display: flex;flex-direction: column;z-index: 1;position: relative;background-color: white;}#sk-container-id-16 div.sk-parallel-item:first-child::after {align-self: flex-end;width: 50%;}#sk-container-id-16 div.sk-parallel-item:last-child::after {align-self: flex-start;width: 50%;}#sk-container-id-16 div.sk-parallel-item:only-child::after {width: 0;}#sk-container-id-16 div.sk-dashed-wrapped {border: 1px dashed gray;margin: 0 0.4em 0.5em 0.4em;box-sizing: border-box;padding-bottom: 0.4em;background-color: white;}#sk-container-id-16 div.sk-label label {font-family: monospace;font-weight: bold;display: inline-block;line-height: 1.2em;}#sk-container-id-16 div.sk-label-container {text-align: center;}#sk-container-id-16 div.sk-container {/* jupyter's `normalize.less` sets `[hidden] { display: none; }` but bootstrap.min.css set `[hidden] { display: none !important; }` so we also need the `!important` here to be able to override the default hidden behavior on the sphinx rendered scikit-learn.org. See: https://github.com/scikit-learn/scikit-learn/issues/21755 */display: inline-block !important;position: relative;}#sk-container-id-16 div.sk-text-repr-fallback {display: none;}</style><div id=\"sk-container-id-16\" class=\"sk-top-container\"><div class=\"sk-text-repr-fallback\"><pre>XGBClassifier(base_score=0.5, booster=&#x27;gbtree&#x27;, colsample_bylevel=1,\n",
       "              colsample_bynode=1, colsample_bytree=1, enable_categorical=False,\n",
       "              gamma=0, gpu_id=-1, importance_type=None,\n",
       "              interaction_constraints=&#x27;&#x27;, learning_rate=0.300000012,\n",
       "              max_delta_step=0, max_depth=6, min_child_weight=1, missing=nan,\n",
       "              monotone_constraints=&#x27;()&#x27;, n_estimators=100, n_jobs=8,\n",
       "              num_parallel_tree=1, predictor=&#x27;auto&#x27;, random_state=0,\n",
       "              reg_alpha=0, reg_lambda=1, scale_pos_weight=1, subsample=1,\n",
       "              tree_method=&#x27;exact&#x27;, use_label_encoder=False,\n",
       "              validate_parameters=1, verbosity=None)</pre><b>In a Jupyter environment, please rerun this cell to show the HTML representation or trust the notebook. <br />On GitHub, the HTML representation is unable to render, please try loading this page with nbviewer.org.</b></div><div class=\"sk-container\" hidden><div class=\"sk-item\"><div class=\"sk-estimator sk-toggleable\"><input class=\"sk-toggleable__control sk-hidden--visually\" id=\"sk-estimator-id-18\" type=\"checkbox\" checked><label for=\"sk-estimator-id-18\" class=\"sk-toggleable__label sk-toggleable__label-arrow\">XGBClassifier</label><div class=\"sk-toggleable__content\"><pre>XGBClassifier(base_score=0.5, booster=&#x27;gbtree&#x27;, colsample_bylevel=1,\n",
       "              colsample_bynode=1, colsample_bytree=1, enable_categorical=False,\n",
       "              gamma=0, gpu_id=-1, importance_type=None,\n",
       "              interaction_constraints=&#x27;&#x27;, learning_rate=0.300000012,\n",
       "              max_delta_step=0, max_depth=6, min_child_weight=1, missing=nan,\n",
       "              monotone_constraints=&#x27;()&#x27;, n_estimators=100, n_jobs=8,\n",
       "              num_parallel_tree=1, predictor=&#x27;auto&#x27;, random_state=0,\n",
       "              reg_alpha=0, reg_lambda=1, scale_pos_weight=1, subsample=1,\n",
       "              tree_method=&#x27;exact&#x27;, use_label_encoder=False,\n",
       "              validate_parameters=1, verbosity=None)</pre></div></div></div></div></div>"
      ],
      "text/plain": [
       "XGBClassifier(base_score=0.5, booster='gbtree', colsample_bylevel=1,\n",
       "              colsample_bynode=1, colsample_bytree=1, enable_categorical=False,\n",
       "              gamma=0, gpu_id=-1, importance_type=None,\n",
       "              interaction_constraints='', learning_rate=0.300000012,\n",
       "              max_delta_step=0, max_depth=6, min_child_weight=1, missing=nan,\n",
       "              monotone_constraints='()', n_estimators=100, n_jobs=8,\n",
       "              num_parallel_tree=1, predictor='auto', random_state=0,\n",
       "              reg_alpha=0, reg_lambda=1, scale_pos_weight=1, subsample=1,\n",
       "              tree_method='exact', use_label_encoder=False,\n",
       "              validate_parameters=1, verbosity=None)"
      ]
     },
     "execution_count": 190,
     "metadata": {},
     "output_type": "execute_result"
    }
   ],
   "source": [
    "xg = xgb.XGBClassifier(use_label_encoder=False)\n",
    "xg.fit(X_train,y_train)"
   ]
  },
  {
   "cell_type": "code",
   "execution_count": 191,
   "metadata": {},
   "outputs": [
    {
     "name": "stdout",
     "output_type": "stream",
     "text": [
      "[[26561 19331]\n",
      " [12382 37448]]\n"
     ]
    }
   ],
   "source": [
    "print(confusion_matrix(y_test,xg.predict(X_test)))"
   ]
  },
  {
   "cell_type": "code",
   "execution_count": 192,
   "metadata": {},
   "outputs": [
    {
     "data": {
      "text/plain": [
       "0.668696851298552"
      ]
     },
     "execution_count": 192,
     "metadata": {},
     "output_type": "execute_result"
    }
   ],
   "source": [
    "accuracy_score(y_test,xg.predict(X_test))"
   ]
  },
  {
   "cell_type": "markdown",
   "metadata": {},
   "source": [
    "Competitor Data with Historical Data"
   ]
  },
  {
   "cell_type": "code",
   "execution_count": 205,
   "metadata": {},
   "outputs": [],
   "source": [
    "compete_data = pd.read_excel(\"/Users/shreyarora/Downloads/IBM_CAO_Data_Science_Challenge_2022-2023.xlsx\",\"Tabel2-SW Deals Comments\")"
   ]
  },
  {
   "cell_type": "code",
   "execution_count": 261,
   "metadata": {},
   "outputs": [
    {
     "name": "stderr",
     "output_type": "stream",
     "text": [
      "/var/folders/6b/qlcxg39s5r34xw0601nhyb4c0000gn/T/ipykernel_43861/653816266.py:6: FutureWarning: The frame.append method is deprecated and will be removed from pandas in a future version. Use pandas.concat instead.\n",
      "  counts = counts.append({\"Product\":n,\"Comp Count\": g[\"WEB_QUOTE_NUM\"].count()},ignore_index = True)\n",
      "/var/folders/6b/qlcxg39s5r34xw0601nhyb4c0000gn/T/ipykernel_43861/653816266.py:6: FutureWarning: The frame.append method is deprecated and will be removed from pandas in a future version. Use pandas.concat instead.\n",
      "  counts = counts.append({\"Product\":n,\"Comp Count\": g[\"WEB_QUOTE_NUM\"].count()},ignore_index = True)\n",
      "/var/folders/6b/qlcxg39s5r34xw0601nhyb4c0000gn/T/ipykernel_43861/653816266.py:6: FutureWarning: The frame.append method is deprecated and will be removed from pandas in a future version. Use pandas.concat instead.\n",
      "  counts = counts.append({\"Product\":n,\"Comp Count\": g[\"WEB_QUOTE_NUM\"].count()},ignore_index = True)\n",
      "/var/folders/6b/qlcxg39s5r34xw0601nhyb4c0000gn/T/ipykernel_43861/653816266.py:6: FutureWarning: The frame.append method is deprecated and will be removed from pandas in a future version. Use pandas.concat instead.\n",
      "  counts = counts.append({\"Product\":n,\"Comp Count\": g[\"WEB_QUOTE_NUM\"].count()},ignore_index = True)\n"
     ]
    },
    {
     "data": {
      "text/html": [
       "<div>\n",
       "<style scoped>\n",
       "    .dataframe tbody tr th:only-of-type {\n",
       "        vertical-align: middle;\n",
       "    }\n",
       "\n",
       "    .dataframe tbody tr th {\n",
       "        vertical-align: top;\n",
       "    }\n",
       "\n",
       "    .dataframe thead th {\n",
       "        text-align: right;\n",
       "    }\n",
       "</style>\n",
       "<table border=\"1\" class=\"dataframe\">\n",
       "  <thead>\n",
       "    <tr style=\"text-align: right;\">\n",
       "      <th></th>\n",
       "      <th>Product</th>\n",
       "      <th>Comp Count</th>\n",
       "    </tr>\n",
       "  </thead>\n",
       "  <tbody>\n",
       "    <tr>\n",
       "      <th>0</th>\n",
       "      <td>SSW</td>\n",
       "      <td>50327</td>\n",
       "    </tr>\n",
       "    <tr>\n",
       "      <th>1</th>\n",
       "      <td>SaaS</td>\n",
       "      <td>99419</td>\n",
       "    </tr>\n",
       "    <tr>\n",
       "      <th>2</th>\n",
       "      <td>SnS Renew</td>\n",
       "      <td>323076</td>\n",
       "    </tr>\n",
       "    <tr>\n",
       "      <th>3</th>\n",
       "      <td>Subscription</td>\n",
       "      <td>5786</td>\n",
       "    </tr>\n",
       "  </tbody>\n",
       "</table>\n",
       "</div>"
      ],
      "text/plain": [
       "        Product  Comp Count\n",
       "0           SSW       50327\n",
       "1          SaaS       99419\n",
       "2     SnS Renew      323076\n",
       "3  Subscription        5786"
      ]
     },
     "execution_count": 261,
     "metadata": {},
     "output_type": "execute_result"
    }
   ],
   "source": [
    "data2 = actual_data.copy()\n",
    "data2 = pd.merge(data2,compete_data, on=['WEB_QUOTE_NUM','WEB_QUOTE_NUM'],how = \"left\")\n",
    "\n",
    "counts = pd.DataFrame()\n",
    "for n,g in data2.groupby(\"PROD_CATEGORY\",0):\n",
    "    counts = counts.append({\"Product\":n,\"Comp Count\": g[\"WEB_QUOTE_NUM\"].count()},ignore_index = True)\n",
    "\n",
    "counts"
   ]
  },
  {
   "cell_type": "code",
   "execution_count": 260,
   "metadata": {},
   "outputs": [
    {
     "data": {
      "text/html": [
       "<div>\n",
       "<style scoped>\n",
       "    .dataframe tbody tr th:only-of-type {\n",
       "        vertical-align: middle;\n",
       "    }\n",
       "\n",
       "    .dataframe tbody tr th {\n",
       "        vertical-align: top;\n",
       "    }\n",
       "\n",
       "    .dataframe thead th {\n",
       "        text-align: right;\n",
       "    }\n",
       "</style>\n",
       "<table border=\"1\" class=\"dataframe\">\n",
       "  <thead>\n",
       "    <tr style=\"text-align: right;\">\n",
       "      <th></th>\n",
       "      <th>WEB_QUOTE_NUM</th>\n",
       "      <th>CMMT_TYPE</th>\n",
       "      <th>COMMENT</th>\n",
       "      <th>ADD_DATE</th>\n",
       "      <th>MOD_DATE</th>\n",
       "      <th>PROD_CATEGORY</th>\n",
       "      <th>CUSTOMER_NUM</th>\n",
       "      <th>WON</th>\n",
       "      <th>CNTRY_CODE</th>\n",
       "      <th>PART_NUM</th>\n",
       "      <th>...</th>\n",
       "      <th>QUOTE_PRICE</th>\n",
       "      <th>ENTITLED_PRICE</th>\n",
       "      <th>SUBMIT_DATE</th>\n",
       "      <th>EXCHANGE_RATE</th>\n",
       "      <th>CURRNCY_CODE</th>\n",
       "      <th>START_DATE</th>\n",
       "      <th>END_DATE</th>\n",
       "      <th>INDUSTRY_CODE</th>\n",
       "      <th>SUBMIT_YR</th>\n",
       "      <th>INDUSTRY_DESC</th>\n",
       "    </tr>\n",
       "  </thead>\n",
       "  <tbody>\n",
       "    <tr>\n",
       "      <th>0</th>\n",
       "      <td>14728298</td>\n",
       "      <td>COMP_NAME</td>\n",
       "      <td>HP -  EMC</td>\n",
       "      <td>2020-08-12 21:57:08</td>\n",
       "      <td>2020-08-12 22:06:58</td>\n",
       "      <td>SnS Renew</td>\n",
       "      <td>7908426</td>\n",
       "      <td>0</td>\n",
       "      <td>CAN</td>\n",
       "      <td>EPM09LL</td>\n",
       "      <td>...</td>\n",
       "      <td>524169.895</td>\n",
       "      <td>2679382.72</td>\n",
       "      <td>2020-08-12 22:08:07</td>\n",
       "      <td>0.783</td>\n",
       "      <td>CAD</td>\n",
       "      <td>2023-10-01</td>\n",
       "      <td>2024-09-30</td>\n",
       "      <td>28</td>\n",
       "      <td>2020</td>\n",
       "      <td>Government</td>\n",
       "    </tr>\n",
       "    <tr>\n",
       "      <th>1</th>\n",
       "      <td>14728298</td>\n",
       "      <td>COMP_NAME</td>\n",
       "      <td>HP -  EMC</td>\n",
       "      <td>2020-08-12 21:57:08</td>\n",
       "      <td>2020-08-12 22:06:58</td>\n",
       "      <td>SnS Renew</td>\n",
       "      <td>7908426</td>\n",
       "      <td>0</td>\n",
       "      <td>CAN</td>\n",
       "      <td>EPM09LL</td>\n",
       "      <td>...</td>\n",
       "      <td>550400.301</td>\n",
       "      <td>2679382.72</td>\n",
       "      <td>2020-08-12 22:08:07</td>\n",
       "      <td>0.783</td>\n",
       "      <td>CAD</td>\n",
       "      <td>2024-10-01</td>\n",
       "      <td>2025-09-30</td>\n",
       "      <td>28</td>\n",
       "      <td>2020</td>\n",
       "      <td>Government</td>\n",
       "    </tr>\n",
       "    <tr>\n",
       "      <th>2</th>\n",
       "      <td>12120101</td>\n",
       "      <td>COMP_NAME</td>\n",
       "      <td>Unkown</td>\n",
       "      <td>2020-04-13 09:25:11</td>\n",
       "      <td>2020-04-13 09:28:13</td>\n",
       "      <td>SSW</td>\n",
       "      <td>4142317</td>\n",
       "      <td>0</td>\n",
       "      <td>USA</td>\n",
       "      <td>DNR1CLL</td>\n",
       "      <td>...</td>\n",
       "      <td>3390.000</td>\n",
       "      <td>11300.00</td>\n",
       "      <td>2020-04-13 09:28:33</td>\n",
       "      <td>1.000</td>\n",
       "      <td>USD</td>\n",
       "      <td>2020-04-22</td>\n",
       "      <td>2021-04-30</td>\n",
       "      <td>1</td>\n",
       "      <td>2020</td>\n",
       "      <td>To Be Assigned</td>\n",
       "    </tr>\n",
       "    <tr>\n",
       "      <th>3</th>\n",
       "      <td>12120101</td>\n",
       "      <td>COMP_NAME</td>\n",
       "      <td>Unkown</td>\n",
       "      <td>2020-04-13 09:25:11</td>\n",
       "      <td>2020-04-13 09:28:13</td>\n",
       "      <td>SSW</td>\n",
       "      <td>4142317</td>\n",
       "      <td>0</td>\n",
       "      <td>USA</td>\n",
       "      <td>DDR15LL</td>\n",
       "      <td>...</td>\n",
       "      <td>117.500</td>\n",
       "      <td>235.00</td>\n",
       "      <td>2020-04-13 09:28:33</td>\n",
       "      <td>1.000</td>\n",
       "      <td>USD</td>\n",
       "      <td>2020-04-22</td>\n",
       "      <td>2021-04-21</td>\n",
       "      <td>1</td>\n",
       "      <td>2020</td>\n",
       "      <td>To Be Assigned</td>\n",
       "    </tr>\n",
       "    <tr>\n",
       "      <th>4</th>\n",
       "      <td>12120101</td>\n",
       "      <td>COMP_NAME</td>\n",
       "      <td>Unkown</td>\n",
       "      <td>2020-04-13 09:25:11</td>\n",
       "      <td>2020-04-13 09:28:13</td>\n",
       "      <td>SSW</td>\n",
       "      <td>4142317</td>\n",
       "      <td>0</td>\n",
       "      <td>USA</td>\n",
       "      <td>DDR14LL</td>\n",
       "      <td>...</td>\n",
       "      <td>492.000</td>\n",
       "      <td>984.00</td>\n",
       "      <td>2020-04-13 09:28:33</td>\n",
       "      <td>1.000</td>\n",
       "      <td>USD</td>\n",
       "      <td>2020-04-22</td>\n",
       "      <td>2021-04-21</td>\n",
       "      <td>1</td>\n",
       "      <td>2020</td>\n",
       "      <td>To Be Assigned</td>\n",
       "    </tr>\n",
       "  </tbody>\n",
       "</table>\n",
       "<p>5 rows × 21 columns</p>\n",
       "</div>"
      ],
      "text/plain": [
       "   WEB_QUOTE_NUM  CMMT_TYPE    COMMENT            ADD_DATE  \\\n",
       "0       14728298  COMP_NAME  HP -  EMC 2020-08-12 21:57:08   \n",
       "1       14728298  COMP_NAME  HP -  EMC 2020-08-12 21:57:08   \n",
       "2       12120101  COMP_NAME     Unkown 2020-04-13 09:25:11   \n",
       "3       12120101  COMP_NAME     Unkown 2020-04-13 09:25:11   \n",
       "4       12120101  COMP_NAME     Unkown 2020-04-13 09:25:11   \n",
       "\n",
       "             MOD_DATE PROD_CATEGORY CUSTOMER_NUM  WON CNTRY_CODE PART_NUM  \\\n",
       "0 2020-08-12 22:06:58     SnS Renew      7908426    0        CAN  EPM09LL   \n",
       "1 2020-08-12 22:06:58     SnS Renew      7908426    0        CAN  EPM09LL   \n",
       "2 2020-04-13 09:28:13           SSW      4142317    0        USA  DNR1CLL   \n",
       "3 2020-04-13 09:28:13           SSW      4142317    0        USA  DDR15LL   \n",
       "4 2020-04-13 09:28:13           SSW      4142317    0        USA  DDR14LL   \n",
       "\n",
       "   ...  QUOTE_PRICE  ENTITLED_PRICE         SUBMIT_DATE EXCHANGE_RATE  \\\n",
       "0  ...   524169.895      2679382.72 2020-08-12 22:08:07         0.783   \n",
       "1  ...   550400.301      2679382.72 2020-08-12 22:08:07         0.783   \n",
       "2  ...     3390.000        11300.00 2020-04-13 09:28:33         1.000   \n",
       "3  ...      117.500          235.00 2020-04-13 09:28:33         1.000   \n",
       "4  ...      492.000          984.00 2020-04-13 09:28:33         1.000   \n",
       "\n",
       "   CURRNCY_CODE START_DATE   END_DATE INDUSTRY_CODE SUBMIT_YR   INDUSTRY_DESC  \n",
       "0           CAD 2023-10-01 2024-09-30            28      2020      Government  \n",
       "1           CAD 2024-10-01 2025-09-30            28      2020      Government  \n",
       "2           USD 2020-04-22 2021-04-30             1      2020  To Be Assigned  \n",
       "3           USD 2020-04-22 2021-04-21             1      2020  To Be Assigned  \n",
       "4           USD 2020-04-22 2021-04-21             1      2020  To Be Assigned  \n",
       "\n",
       "[5 rows x 21 columns]"
      ]
     },
     "execution_count": 260,
     "metadata": {},
     "output_type": "execute_result"
    }
   ],
   "source": [
    "data2.head()"
   ]
  },
  {
   "cell_type": "code",
   "execution_count": 286,
   "metadata": {},
   "outputs": [],
   "source": [
    "data3 = actual_data.copy()\n",
    "data3 = pd.merge(data3,compete_data ,on=['WEB_QUOTE_NUM','WEB_QUOTE_NUM'],how=\"left\")\n",
    "data3.fillna(0,inplace = True)\n",
    "\n",
    "def hascomp(row):\n",
    "    r = row[\"COMMENT\"]\n",
    "    if r==0:\n",
    "        return 0\n",
    "    else:\n",
    "        return 1\n"
   ]
  },
  {
   "cell_type": "code",
   "execution_count": 288,
   "metadata": {},
   "outputs": [],
   "source": [
    "data3[\"HAS_COMMENT\"] = data3.apply(lambda x:hascomp(x),axis=1)"
   ]
  },
  {
   "cell_type": "code",
   "execution_count": 295,
   "metadata": {},
   "outputs": [
    {
     "data": {
      "text/plain": [
       "array([<AxesSubplot:title={'center':'0'}>,\n",
       "       <AxesSubplot:title={'center':'1'}>], dtype=object)"
      ]
     },
     "execution_count": 295,
     "metadata": {},
     "output_type": "execute_result"
    },
    {
     "data": {
      "image/png": "[encoded data removed]",
      "text/plain": [
       "<Figure size 432x288 with 2 Axes>"
      ]
     },
     "metadata": {
      "needs_background": "light"
     },
     "output_type": "display_data"
    }
   ],
   "source": [
    "data3.hist(column = \"HAS_COMMENT\",by = \"WON\")"
   ]
  },
  {
   "cell_type": "markdown",
   "metadata": {},
   "source": []
  }
 ],
 "metadata": {
  "kernelspec": {
   "display_name": "Python 3.9.12 ('base')",
   "language": "python",
   "name": "python3"
  },
  "language_info": {
   "codemirror_mode": {
    "name": "ipython",
    "version": 3
   },
   "file_extension": ".py",
   "mimetype": "text/x-python",
   "name": "python",
   "nbconvert_exporter": "python",
   "pygments_lexer": "ipython3",
   "version": "3.9.12"
  },
  "orig_nbformat": 4,
  "vscode": {
   "interpreter": {
    "hash": "40d3a090f54c6569ab1632332b64b2c03c39dcf918b08424e98f38b5ae0af88f"
   }
  }
 },
 "nbformat": 4,
 "nbformat_minor": 2
}
